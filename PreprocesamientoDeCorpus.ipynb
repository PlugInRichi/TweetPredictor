{
 "cells": [
  {
   "cell_type": "code",
   "execution_count": 1,
   "id": "ae2b06e7",
   "metadata": {},
   "outputs": [],
   "source": [
    "import re, string, collections\n",
    "import pandas as pd\n",
    "import matplotlib.pyplot as plt\n",
    "import nltk\n",
    "import ipywidgets as widgets\n",
    "from ipywidgets import interact, interact_manual\n",
    "\n",
    "#from wordcloud import WordCloud\n",
    "#from nltk import SnowballStemmer\n",
    "#from nltk.corpus import stopwords\n",
    "#nltk.download('stopwords')\n",
    "import pickle\n",
    "import numpy as np"
   ]
  },
  {
   "cell_type": "code",
   "execution_count": null,
   "id": "dad3ebc6",
   "metadata": {},
   "outputs": [],
   "source": []
  },
  {
   "cell_type": "markdown",
   "id": "0ad8c217",
   "metadata": {},
   "source": [
    "### Limpieza de Corpus\n",
    "Obtenemos el corpus directamente del archivo, eliminamos todos los símbolos que no son útiles para el análisis:\n",
    "~~~\n",
    "}{¡\"$%&\\'()¿:=\\+[\\]*-\n",
    "~~~\n",
    "Dejamos los símbolos que nos servirán para separar frases como coma, punto y coma, admiración e interrogación. Adicionalmente sustituimos todas las entidades conocidas que son equivalentes entre sí como los hashtag, menciones y vínculos. "
   ]
  },
  {
   "cell_type": "code",
   "execution_count": 2,
   "id": "bda52531",
   "metadata": {},
   "outputs": [],
   "source": [
    "def cleanData (file, symbols=''):\n",
    "    tweets = pd.read_csv(file, header=0, names=['ID', 'tweet'], sep='\\t')\n",
    "    #tweets = pd.read_csv(r'train.tsv', sep='\\t')\n",
    "    data = tweets.get('tweet').tolist()\n",
    "    clean_data = list()\n",
    "    for tweet in data:\n",
    "        url = re.sub(r'http\\S+','', tweet)\n",
    "        simbolos = re.sub(symbols, '', url)\n",
    "        usuarios = re.sub(r'@\\w+', '_user_', simbolos)\n",
    "        hashtags = re.sub(r'#\\w+', '_hashtag_', usuarios)\n",
    "        clean_data.append(hashtags.lower())\n",
    "    return data, clean_data"
   ]
  },
  {
   "cell_type": "markdown",
   "id": "75552147",
   "metadata": {},
   "source": [
    "### Etiquetas de inicio y final de oraciones\n",
    "Utilizamos los simbolos especiales para delimitar el inicio y fin de oraciones, posterior a esto se vuelven a limpiar las oraciones elimiando cualquier símbolo especial que haya podido quedar por faltas de ortografía."
   ]
  },
  {
   "cell_type": "code",
   "execution_count": 3,
   "id": "65e20237",
   "metadata": {},
   "outputs": [],
   "source": [
    "def markData (data):\n",
    "    frases_pattern = re.compile(\n",
    "        \"(\\w+)( )?\"\n",
    "        \"(\\.|,|;|\\?|!)+\"\n",
    "        \"( )?(\\w+)\"\n",
    "    )\n",
    "    mark_data = list()\n",
    "    for tweet in data:\n",
    "        tweet = re.sub(frases_pattern, r'\\1 _EOS_  _BOS_ \\5', tweet, flags=0) #Lo deja para separa ideas\n",
    "        tweet = ' _BOS_ ' + tweet + ' _EOS_ '\n",
    "        tweet = re.sub('(\\.|,|;|\\?|!)+', r'', tweet, flags=0)\n",
    "        mark_data.append(tweet)\n",
    "    return mark_data"
   ]
  },
  {
   "cell_type": "markdown",
   "id": "b29f1855",
   "metadata": {},
   "source": [
    "### Tokenización\n",
    "Recorremos el corpus extrayendo cada uno de las palabras y etiquetas, generamos dos arreglos, en el primero se devuelve todo el corpus tokenizado y el segundo es un conjunto de todos los tokens únicos, es decir que solo aparecen una única ocasión en el corpus."
   ]
  },
  {
   "cell_type": "code",
   "execution_count": 4,
   "id": "ea72e8cf",
   "metadata": {},
   "outputs": [],
   "source": [
    "def createTokens(mark_data):\n",
    "    tokenizer = nltk.RegexpTokenizer(r\"\\w+\")\n",
    "    tokens = tokenizer.tokenize(mark_data)\n",
    "    frequencies = collections.Counter(tokens)\n",
    "    unique_tokens = [item[0] for item in filter(lambda x: x[1] == 1, frequencies.items())]\n",
    "    return tokens, unique_tokens"
   ]
  },
  {
   "cell_type": "markdown",
   "id": "4df35a62",
   "metadata": {},
   "source": [
    "### Creación del vocabulario\n",
    "Crea un vocabulario basado en los tokens no únicos, obtenemos dos diccionarios que servirán para almacenar los índices asociados a cada token."
   ]
  },
  {
   "cell_type": "code",
   "execution_count": 5,
   "id": "e8ad095f",
   "metadata": {},
   "outputs": [],
   "source": [
    "def createVocabulary (tokens, unique_tokens):\n",
    "    vocabulario = list(set(tokens)-set(unique_tokens))\n",
    "    size = len(vocabulario)\n",
    "    vocabulario.append('_OOV_')\n",
    "    dic_index = dict(zip(range(size),vocabulario))  #Índice -> Palabra\n",
    "    dic_index[size] = '_OOV_' \n",
    "    dic_words = dict(zip(vocabulario, range(size))) #Palabra -> Índice\n",
    "    dic_words['_OOV_'] = size\n",
    "    return vocabulario, dic_index, dic_words"
   ]
  },
  {
   "cell_type": "markdown",
   "id": "41f33929",
   "metadata": {},
   "source": [
    "### Generación de pares de bigramas\n",
    "Utiliza todos los tokens para generar los pares de bigramas, condicionamos a tener una frecuencia mayor a uno, cuando encuentra una palabra _out of vocabulary_ solamente agrega el segundo par de bigrama, es decir:\n",
    "~~~\n",
    "token_no_único -> OVV\n",
    "~~~\n",
    "De esta manera podemos calcular la probabilidad de que dado un token conocido se genere una palabra poco frecuente."
   ]
  },
  {
   "cell_type": "code",
   "execution_count": 6,
   "id": "eb4896bb",
   "metadata": {},
   "outputs": [],
   "source": [
    "def genBigrams(dic_words,tokens,vocabulario):\n",
    "    separador = (dic_words['_EOS_'],dic_words['_BOS_'])\n",
    "    ovv = dic_words['_OOV_']\n",
    "    tokens_idx = [dic_words[token] if token in vocabulario else ovv for token in tokens]\n",
    "    #print(tokens_idx)\n",
    "    bigrams = list()\n",
    "    for i in range(len(tokens_idx) - 1):\n",
    "        if tokens_idx[i] != ovv:\n",
    "            bigrams.append((tokens_idx[i], tokens_idx[i+1]))\n",
    "    return bigrams"
   ]
  },
  {
   "cell_type": "markdown",
   "id": "fc406701",
   "metadata": {},
   "source": [
    "## Ejecución del Pipeline"
   ]
  },
  {
   "cell_type": "code",
   "execution_count": 7,
   "id": "6c2e65fd",
   "metadata": {},
   "outputs": [],
   "source": [
    "puntuacion = r'[\\}\\{¡\"$%&\\'()¿:=\\+[\\]*-]'\n",
    "data, clean_data = cleanData(r'train_MX.tsv', puntuacion)\n",
    "mark_data = markData(clean_data)\n",
    "tokens, unique_tokens = createTokens(' '.join(mark_data))\n",
    "vocabulario, dic_index, dic_words = createVocabulary(tokens, unique_tokens)\n",
    "bigrams = genBigrams(dic_words,tokens,vocabulario)\n"
   ]
  },
  {
   "cell_type": "markdown",
   "id": "0a0491dd",
   "metadata": {},
   "source": [
    "### Resumen del proceso"
   ]
  },
  {
   "cell_type": "code",
   "execution_count": 8,
   "id": "7c9a6baf",
   "metadata": {},
   "outputs": [
    {
     "name": "stdout",
     "output_type": "stream",
     "text": [
      "Tamaño palabras únicas:      3416\n",
      "Tamaño palabras no únicas:   1728 \n",
      "\n",
      "Bigramas para entrenamiento:  28129 \n",
      "\n",
      "Tokens originales en el corpus (sin preprocesamiento):  25329\n",
      "Tokens obtenidos agregando las etiquedas de inicio y final de oración : 31546\n"
     ]
    }
   ],
   "source": [
    "print('Tamaño palabras únicas:     ',len(unique_tokens))\n",
    "print('Tamaño palabras no únicas:  ',len(vocabulario)-1,'\\n')\n",
    "\n",
    "\n",
    "print('Bigramas para entrenamiento: ',len(bigrams),'\\n')\n",
    "\n",
    "\n",
    "tokenizer = nltk.RegexpTokenizer(r\"\\w+\")\n",
    "tokens_o = tokenizer.tokenize(' '.join(data))\n",
    "\n",
    "print('Tokens originales en el corpus (sin preprocesamiento): ', len(tokens_o))\n",
    "print('Tokens obtenidos agregando las etiquedas de inicio y final de oración :',len(tokens))"
   ]
  },
  {
   "cell_type": "code",
   "execution_count": 12,
   "id": "5749367a",
   "metadata": {},
   "outputs": [
    {
     "data": {
      "application/vnd.jupyter.widget-view+json": {
       "model_id": "eca0fe7105ec4d3d8d5fc644987a5d5a",
       "version_major": 2,
       "version_minor": 0
      },
      "text/plain": [
       "interactive(children=(Dropdown(description='idx', options=(0, 1, 2, 3, 4, 5, 6, 7, 8, 9, 10, 11, 12, 13, 14, 1…"
      ]
     },
     "metadata": {},
     "output_type": "display_data"
    }
   ],
   "source": [
    "#Ver 66, 71, 114\n",
    "def printOraciones(idx):\n",
    "    print(\"Texto Original:\\n\",data[idx],\"\\n\")\n",
    "    print(\"Texto Limpio:\\n\",clean_data[idx],\"\\n\")\n",
    "    print(\"Texto Marcado:\\n\",mark_data[idx],\"\\n\")\n",
    "    \n",
    "@interact\n",
    "def navegacion(idx = [tweet for tweet in range(len(data))]):\n",
    "    printOraciones(idx)\n"
   ]
  },
  {
   "cell_type": "markdown",
   "id": "225f859c",
   "metadata": {},
   "source": [
    "#### Almacenamiento de resultados"
   ]
  },
  {
   "cell_type": "code",
   "execution_count": 8,
   "id": "ded8a861",
   "metadata": {},
   "outputs": [],
   "source": [
    "#with open('Corpus.pk', 'wb') as corpus_file:\n",
    "    pickle.dump(dic_words, corpus_file)\n",
    "    pickle.dump(dic_index, corpus_file)\n",
    "    pickle.dump(vocabulario, corpus_file)\n",
    "    pickle.dump(bigrams, corpus_file)\n",
    "    pickle.dump(tokens, corpus_file)\n",
    "    pickle.dump(unique_tokens, corpus_file)"
   ]
  }
 ],
 "metadata": {
  "kernelspec": {
   "display_name": "Python 3 (ipykernel)",
   "language": "python",
   "name": "python3"
  },
  "language_info": {
   "codemirror_mode": {
    "name": "ipython",
    "version": 3
   },
   "file_extension": ".py",
   "mimetype": "text/x-python",
   "name": "python",
   "nbconvert_exporter": "python",
   "pygments_lexer": "ipython3",
   "version": "3.7.0"
  }
 },
 "nbformat": 4,
 "nbformat_minor": 5
}
